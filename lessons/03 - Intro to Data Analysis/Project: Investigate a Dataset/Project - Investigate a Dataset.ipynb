{
 "cells": [
  {
   "cell_type": "markdown",
   "metadata": {},
   "source": [
    "# Titanic Dataset"
   ]
  },
  {
   "cell_type": "markdown",
   "metadata": {},
   "source": [
    "## Overview\n",
    "\n",
    "This project will analyse the Titanic data set and try to find factors which increase the chance to survive the sinking of the ship. First, we start with an exploration of the data. In the following, we define a metric for the survival chance and present and discuss the results.\n",
    "\n",
    "## Table of contents\n",
    "\n",
    "* [Exploration](#Exploring-the-data)\n",
    "* [Analysis](#Analysis:-Chance-to-survive)\n",
    "* [Results](#Results)\n",
    "* [Conclusion](#Conclusion)\n",
    "\n",
    "\n",
    "\n",
    "## Exploring the data\n",
    "\n",
    "First, the data is loaded and some basic information is printed to get an idea about the data set. Also took some insight from https://www.kaggle.com/c/titanic/data."
   ]
  },
  {
   "cell_type": "code",
   "execution_count": null,
   "metadata": {},
   "outputs": [],
   "source": [
    "import numpy as np\n",
    "import pandas as pd\n",
    "#import csv\n",
    "\n",
    "data = pd.read_csv(\"titanic-data.csv\")\n",
    "\n",
    "data.head()"
   ]
  },
  {
   "cell_type": "code",
   "execution_count": null,
   "metadata": {},
   "outputs": [],
   "source": [
    "data.describe()   "
   ]
  },
  {
   "cell_type": "code",
   "execution_count": null,
   "metadata": {},
   "outputs": [],
   "source": [
    "%matplotlib inline\n",
    "import matplotlib.pyplot as plt\n",
    "plt.hist(data[\"Fare\"], bins=40)\n",
    "plt.title(\"Histogram of passengers' fares\")\n",
    "plt.xlabel(\"Fare\")\n",
    "plt.ylabel(\"Number\")\n",
    "print()"
   ]
  },
  {
   "cell_type": "code",
   "execution_count": null,
   "metadata": {},
   "outputs": [],
   "source": [
    "# The \"Age\" column is not missing for some of the passengers. \n",
    "# We need to exclude those to print a histogram.\n",
    "plt.hist(data[\"Age\"][data[\"Age\"].notnull()])\n",
    "plt.title(\"Histogram of passengers' ages\")\n",
    "plt.xlabel(\"Age\")\n",
    "plt.ylabel(\"Number\")\n",
    "print()"
   ]
  },
  {
   "cell_type": "markdown",
   "metadata": {},
   "source": [
    "To get an idea if the age of a passenger had some relation with his or her chance to survive, we add a new \"AgeClass\" column."
   ]
  },
  {
   "cell_type": "code",
   "execution_count": null,
   "metadata": {},
   "outputs": [],
   "source": [
    "import math\n",
    "\n",
    "def classify_age(age):\n",
    "    if age and not math.isnan(age): \n",
    "        # Use integer division.\n",
    "        return int(age) // 10\n",
    "    else:\n",
    "        return -1  # instead of NaN\n",
    "    \n",
    "data[\"AgeClass\"] = data[\"Age\"].apply(classify_age)\n",
    "\n",
    "data.head()"
   ]
  },
  {
   "cell_type": "markdown",
   "metadata": {},
   "source": [
    "## Analysis: Chance to survive \n",
    "\n",
    "In the following we will analyse the Titanic dataset to find factors which increased the chance to survive the tragedy and those which did not have an effect.\n",
    "\n",
    "Therefore I define the \"chance of survival\" as the probability of survival, i.e. the share of survivors in the population or a subgroup thereof:\n",
    "\n",
    "$$ P_{survive}(group) = \\frac{\\textrm{number of survivors in } group}{\\textrm{total number of persons}}$$\n"
   ]
  },
  {
   "cell_type": "code",
   "execution_count": null,
   "metadata": {},
   "outputs": [],
   "source": [
    "population_size = len(data)\n",
    "num_survived = len(data[data[\"Survived\"] == 1])\n",
    "p_survival = num_survived / population_size\n",
    "print(\"{} of {} survived, this corresponds to a survival chance of {:.3}\"\n",
    "     .format(num_survived, population_size, p_survival))"
   ]
  },
  {
   "cell_type": "markdown",
   "metadata": {},
   "source": [
    "\n",
    "In the titanic dataset, over the whole population the chance to survive is $P_{survive}(total)=0.384$.\n",
    "\n",
    "Lets compare  how different factors influence this chance. First, we define a function that calculates the probability to survive over groups defined by a factor."
   ]
  },
  {
   "cell_type": "code",
   "execution_count": null,
   "metadata": {
    "collapsed": true
   },
   "outputs": [],
   "source": [
    "def compute_survival_probabilty(criterion):\n",
    "    grouped = data.groupby(criterion)\n",
    "    return grouped.sum()[\"Survived\"] / grouped.size()"
   ]
  },
  {
   "cell_type": "markdown",
   "metadata": {},
   "source": [
    "Furthermore, we define a function to print the probability for each factor and create a bar plot."
   ]
  },
  {
   "cell_type": "code",
   "execution_count": null,
   "metadata": {
    "collapsed": true
   },
   "outputs": [],
   "source": [
    "def show_probability_for_criterion(criterion):\n",
    "    \n",
    "    def get_range_from_group_index(keys):\n",
    "        if not type(keys[0]) == str:\n",
    "            start = min(keys)\n",
    "            end = max(keys) + 1\n",
    "            return np.arange(start, end)\n",
    "        return np.arange(len(keys))\n",
    "    \n",
    "    title = \"Survival rate by {}\".format(criterion)\n",
    "    pp = compute_survival_probabilty(criterion)\n",
    "    #print(title)\n",
    "    #print(pp)\n",
    "    keys = list(data.groupby(criterion).groups.keys())\n",
    "    x = get_range_from_group_index(keys)\n",
    "    %matplotlib inline\n",
    "    plt.bar(x, pp)\n",
    "    plt.xticks(x, keys)\n",
    "    plt.title(title)\n",
    "    plt.xlabel(criterion)\n",
    "    plt.ylabel(r\"$P_{survive}$\")\n",
    "    axes = plt.gca()\n",
    "    axes.set_ylim([0, 1])\n",
    "    "
   ]
  },
  {
   "cell_type": "markdown",
   "metadata": {},
   "source": [
    "## Results\n",
    "\n",
    "In the following, the data is grouped by sex, ticket class and the port of embarkation and the respective chance to survive is shown."
   ]
  },
  {
   "cell_type": "markdown",
   "metadata": {},
   "source": [
    "### Sex"
   ]
  },
  {
   "cell_type": "code",
   "execution_count": null,
   "metadata": {},
   "outputs": [],
   "source": [
    "show_probability_for_criterion(\"Sex\")"
   ]
  },
  {
   "cell_type": "markdown",
   "metadata": {},
   "source": [
    "The gender seems to have by far the largest effect on the survival rate. Women have a much better chance to have survived the sinking of the ship. This is probably due to the \"women and children first\" protocol and the fact that the crew of the Titanic was not used to the rescue procedure and too few passengers boarded the rescue vessels, a consequence is that less men were able to get a spot in one of the life-saving vessels."
   ]
  },
  {
   "cell_type": "markdown",
   "metadata": {},
   "source": [
    "### Ticket class"
   ]
  },
  {
   "cell_type": "code",
   "execution_count": null,
   "metadata": {},
   "outputs": [],
   "source": [
    "show_probability_for_criterion(\"Pclass\")"
   ]
  },
  {
   "cell_type": "markdown",
   "metadata": {},
   "source": [
    "The ticket class has an effect on the survival rate, too. Passengers from the first class survived the incident about twice as often as those from the third class, which have the lowest survival rate of all."
   ]
  },
  {
   "cell_type": "markdown",
   "metadata": {},
   "source": [
    "### Age\n",
    "\n",
    "As described above, the age of passengers has been categorized into slots of 10 years each. The value \"-1\" represents all passengers where the age is unknown."
   ]
  },
  {
   "cell_type": "code",
   "execution_count": null,
   "metadata": {},
   "outputs": [],
   "source": [
    "show_probability_for_criterion(\"AgeClass\")"
   ]
  },
  {
   "cell_type": "markdown",
   "metadata": {},
   "source": [
    "The survival rate is 100.0 for people above 80 and 0.0 for people between 70 and 79. This \"definite\" numbers are due to the small number of individuals in these groups:"
   ]
  },
  {
   "cell_type": "code",
   "execution_count": null,
   "metadata": {},
   "outputs": [],
   "source": [
    "data.groupby(\"AgeClass\").size()"
   ]
  },
  {
   "cell_type": "markdown",
   "metadata": {},
   "source": [
    "Besides these, the figures show that the survival rate for children below the age of 10 was better than average, and that for people with unknown age is worst.\n",
    "\n",
    "The former observation can be explained by the \"women and children first\" protocol. The latter may be related to the passenger class distribution of this group. I guess there are more third class passengers within this group, but this shall not be part of this investigation.\n",
    "\n",
    "For all other age groups, the survival rate is more or less in average."
   ]
  },
  {
   "cell_type": "markdown",
   "metadata": {},
   "source": [
    "### Port of embarkation"
   ]
  },
  {
   "cell_type": "code",
   "execution_count": null,
   "metadata": {},
   "outputs": [],
   "source": [
    "show_probability_for_criterion(\"Embarked\")"
   ]
  },
  {
   "cell_type": "markdown",
   "metadata": {},
   "source": [
    "The embarkation port seems to have an effect, too. Passengers embarked in Cherbourgh had a higher chance to survive than the average, and about 66% more of these passengers survived than of the passengers which embarked at Southampton. While this is unexpected at first, there might be a relation between the port and the other class. From what I know, Southampton used to be a large port for common people migrating to the U.S. and maybe the first tour of the Titanic attracted many upperclass French to join its trip in Cherbourgh. \n",
    "\n",
    "Indeed, a look into the following figures show this relation:"
   ]
  },
  {
   "cell_type": "code",
   "execution_count": null,
   "metadata": {},
   "outputs": [],
   "source": [
    "def portname(p):\n",
    "    if p == \"C\":\n",
    "        return \"Cherbourgh\"\n",
    "    elif p == \"Q\":\n",
    "        return \"Queenstown\"\n",
    "    else:\n",
    "        return \"Southampton\"\n",
    "    \n",
    "    \n",
    "def passenger_class(p):\n",
    "    return \"Class {}\".format(p) \n",
    "\n",
    "\n",
    "port_and_class = data.groupby(\"Pclass\").apply(lambda x: x.groupby(\"Embarked\").size())\n",
    "total_embarked = port_and_class.sum()\n",
    "port_and_class_shares = port_and_class.div(total_embarked)\n",
    "for key in port_and_class_shares:\n",
    "    plt.figure()\n",
    "    plt.pie(port_and_class_shares[key], labels=port_and_class_shares[key].keys().map(passenger_class))\n",
    "    plt.title(portname(key))"
   ]
  },
  {
   "cell_type": "markdown",
   "metadata": {},
   "source": [
    "The share of first class passengers is much higher for those embarking at Cherbourgh than for the other ports. Thus, there port of embarkation and the ticket class are ticket class dependent. This explains why passengers from Cherbourgh had a higher survival rate. \n",
    "\n",
    "It would be interesting to find out which of these two factors really caused a higher survival chance. I doubt that the port has an \"causation effect\". But thinking about a proper A/B test setup goes beyond the scope of this project, I guess."
   ]
  },
  {
   "cell_type": "markdown",
   "metadata": {},
   "source": [
    "#### Survival per port and class\n",
    "Just some fiddling with Pandas:"
   ]
  },
  {
   "cell_type": "code",
   "execution_count": null,
   "metadata": {},
   "outputs": [],
   "source": [
    "grouped_survival = data.groupby(\"Embarked\").apply(lambda x: x.groupby(\"Pclass\").agg([\"sum\", \"count\"]))[\"Survived\"]\n",
    "grouped_survival[\"share\"] = grouped_survival[\"sum\"] / grouped_survival[\"count\"]\n",
    "grouped_survival.rename({\"sum\": \"survived\", \"count\": \"total\"}, inplace=True)\n",
    "grouped_survival"
   ]
  },
  {
   "cell_type": "markdown",
   "metadata": {},
   "source": [
    "Interestingly, the survival rate for people embarking in Queenstown is higher than for Southampton, allthough the share of 3rd class passengers is higher. "
   ]
  },
  {
   "cell_type": "markdown",
   "metadata": {},
   "source": [
    "## Conclusion\n",
    "\n",
    "We have investigated the relation between different factors and the chance to survive the sinking of the Titanic. We have shown that sex, ticket class, the age  and the port of embarkation are correlated to the survival rate. The figures indicate a correlation between ticket class and port of embarkation. \n",
    "\n",
    "### Limitations and possible extensions\n",
    "\n",
    "The data provided by Udacity for this project is only part of the Kaggle data. They use it for a machine learning task and therefore split the data into a training and a test set, Udacity provided the former as input. However, it is unclear where the data originates from. According to Wikipedia, the total number of passengers aboard the RMS Titanic is estimated to 2,224. Neither Kaggle nor Udacity provide any information about how the present data sets (size 1309 or 891 for Udacity) have been sampled from this population. The sampling could have been biased and thus we cannot tell whether or not the results of this investigation can be generalized.\n",
    "\n",
    "The Udacity data corresponds to only the training set of the Kaggle data. The test set contains another 418 entries. This project could be extended by repeating the analysis on the union of both the training and the test data. \n",
    "\n",
    "Also, further investigation on the relation between port of embarkation and ticket class is not part of this project.\n",
    "\n"
   ]
  },
  {
   "cell_type": "markdown",
   "metadata": {},
   "source": [
    "## Sources\n",
    "\n",
    "* [Pandas documentation, e.g. on groupby()](https://pandas.pydata.org/pandas-docs/stable/generated/pandas.DataFrame.groupby.html)\n",
    "* [Matplotlib documentation, e.g. on pie charts](https://matplotlib.org/api/_as_gen/matplotlib.axes.Axes.pie.html)\n",
    "* [Wikipedia: RMS Titanic](https://en.wikipedia.org/wiki/RMS_Titanic)\n",
    "* [stackoverflow, e.g. \"How can I add a table of contents to an ipython notebook?\"](https://stackoverflow.com/questions/21151450/how-can-i-add-a-table-of-contents-to-an-ipython-notebook) "
   ]
  },
  {
   "cell_type": "code",
   "execution_count": null,
   "metadata": {
    "collapsed": true
   },
   "outputs": [],
   "source": []
  }
 ],
 "metadata": {
  "kernelspec": {
   "display_name": "Python 3",
   "language": "python",
   "name": "python3"
  },
  "language_info": {
   "codemirror_mode": {
    "name": "ipython",
    "version": 3
   },
   "file_extension": ".py",
   "mimetype": "text/x-python",
   "name": "python",
   "nbconvert_exporter": "python",
   "pygments_lexer": "ipython3",
   "version": "3.6.1"
  }
 },
 "nbformat": 4,
 "nbformat_minor": 2
}
