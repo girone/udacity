{
 "cells": [
  {
   "cell_type": "markdown",
   "metadata": {},
   "source": [
    "# Exercises on Data Quality\n"
   ]
  },
  {
   "cell_type": "markdown",
   "metadata": {},
   "source": [
    "## Quiz: Correcting validity\n"
   ]
  },
  {
   "cell_type": "code",
   "execution_count": 3,
   "metadata": {},
   "outputs": [],
   "source": [
    "\"\"\"\n",
    "Your task is to check the \"productionStartYear\" of the DBPedia autos datafile for valid values.\n",
    "The following things should be done:\n",
    "- check if the field \"productionStartYear\" contains a year\n",
    "- check if the year is in range 1886-2014\n",
    "- convert the value of the field to be just a year (not full datetime)\n",
    "- the rest of the fields and values should stay the same\n",
    "- if the value of the field is a valid year in the range as described above,\n",
    "  write that line to the output_good file\n",
    "- if the value of the field is not a valid year as described above, \n",
    "  write that line to the output_bad file\n",
    "- discard rows (neither write to good nor bad) if the URI is not from dbpedia.org\n",
    "- you should use the provided way of reading and writing data (DictReader and DictWriter)\n",
    "  They will take care of dealing with the header.\n",
    "\n",
    "You can write helper functions for checking the data and writing the files, but we will call only the \n",
    "'process_file' with 3 arguments (inputfile, output_good, output_bad).\n",
    "\"\"\"\n",
    "import csv\n",
    "import pprint\n",
    "from datetime import datetime\n",
    "\n",
    "\n",
    "INPUT_FILE = 'autos.csv'\n",
    "OUTPUT_GOOD = 'autos-valid.csv'\n",
    "OUTPUT_BAD = 'FIXME-autos.csv'\n",
    "\n",
    "FORMAT = \"%Y-%m-%dT%H:%M:%S\"\n",
    "\n",
    "\n",
    "def extract_year(date_string):\n",
    "    date_string = date_string.strip()\n",
    "    if date_string != \"NULL\":\n",
    "        date_string = date_string[:19]\n",
    "        year = datetime.strptime(date_string, FORMAT).year\n",
    "        if 1886 <= year <= 2014:\n",
    "            return year\n",
    "    return None\n",
    "\n",
    "\n",
    "def process_file(input_file, output_good, output_bad):\n",
    "\n",
    "    good_entries = []\n",
    "    bad_entries = []\n",
    "    column_to_fix = \"productionStartYear\"\n",
    "    \n",
    "    with open(input_file, \"r\") as f:\n",
    "        reader = csv.DictReader(f)\n",
    "        header = reader.fieldnames\n",
    "        for line in list(reader)[3:]:\n",
    "            year = extract_year(line[column_to_fix])\n",
    "            if year:\n",
    "                line[column_to_fix] = year\n",
    "                good_entries.append(line)\n",
    "            else:\n",
    "                bad_entries.append(line)\n",
    "            \n",
    "    with open(OUTPUT_GOOD, \"w\") as g:\n",
    "        writer = csv.DictWriter(g, delimiter=\",\", fieldnames=header)\n",
    "        writer.writeheader()\n",
    "        for row in good_entries:\n",
    "            writer.writerow(row)\n",
    "            \n",
    "    with open(OUTPUT_BAD, \"w\") as g:\n",
    "        writer = csv.DictWriter(g, delimiter=\",\", fieldnames=header)\n",
    "        writer.writeheader()\n",
    "        for row in bad_entries:\n",
    "            writer.writerow(row)\n",
    "\n",
    "\n",
    "def test():\n",
    "    process_file(INPUT_FILE, OUTPUT_GOOD, OUTPUT_BAD)\n",
    "\n",
    "\n",
    "if __name__ == \"__main__\":\n",
    "    test()"
   ]
  },
  {
   "cell_type": "code",
   "execution_count": null,
   "metadata": {
    "collapsed": true
   },
   "outputs": [],
   "source": []
  }
 ],
 "metadata": {
  "kernelspec": {
   "display_name": "Python 3",
   "language": "python",
   "name": "python3"
  },
  "language_info": {
   "codemirror_mode": {
    "name": "ipython",
    "version": 3
   },
   "file_extension": ".py",
   "mimetype": "text/x-python",
   "name": "python",
   "nbconvert_exporter": "python",
   "pygments_lexer": "ipython3",
   "version": "3.6.1"
  }
 },
 "nbformat": 4,
 "nbformat_minor": 2
}
